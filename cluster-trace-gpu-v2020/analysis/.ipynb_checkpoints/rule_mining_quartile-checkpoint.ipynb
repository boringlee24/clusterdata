{
 "cells": [
  {
   "cell_type": "markdown",
   "metadata": {},
   "source": [
    "# Preparing"
   ]
  },
  {
   "cell_type": "markdown",
   "metadata": {},
   "source": [
    "## Import"
   ]
  },
  {
   "cell_type": "code",
   "execution_count": 1,
   "metadata": {
    "ExecuteTime": {
     "end_time": "2021-06-30T09:25:09.699726Z",
     "start_time": "2021-06-30T09:25:08.296223Z"
    }
   },
   "outputs": [
    {
     "name": "stdout",
     "output_type": "stream",
     "text": [
      "figures saved to /tmp/figures\n"
     ]
    }
   ],
   "source": [
    "import numpy as np\n",
    "import pandas as pd\n",
    "import seaborn as sns\n",
    "import matplotlib\n",
    "import matplotlib.pyplot as plt\n",
    "from mlxtend.preprocessing import TransactionEncoder\n",
    "from mlxtend.frequent_patterns import apriori, fpmax, fpgrowth\n",
    "from utils import *\n",
    "from joblib import Parallel, delayed\n",
    "pd.set_option('display.max_colwidth', 1000)\n",
    "pd.set_option('display.max_columns', 100)\n",
    "matplotlib.rcParams.update({\"font.size\": 16,'lines.linewidth': 2.5})\n",
    "import portion as P\n",
    "# matplotlib.rcdefaults()"
   ]
  },
  {
   "cell_type": "code",
   "execution_count": 2,
   "metadata": {
    "ExecuteTime": {
     "end_time": "2021-06-30T09:25:56.804953Z",
     "start_time": "2021-06-30T09:25:09.701286Z"
    }
   },
   "outputs": [],
   "source": [
    "DATA_DIR = 'processed_csv/'\n",
    "dfa = pd.read_csv(DATA_DIR + 'dfa.csv') # dataframe of tasks\n",
    "dfas = pd.read_csv(DATA_DIR + 'dfas.csv') # tasks with sensor data but sum\n",
    "dfam = pd.read_csv(DATA_DIR + 'dfas_mean.csv') # tasks with sensor data but mean"
   ]
  },
  {
   "cell_type": "code",
   "execution_count": 3,
   "metadata": {},
   "outputs": [],
   "source": [
    "# figure out which job_name has appeared in multiple rows\n",
    "count_series = dfa['job_name'].value_counts()\n",
    "dup_task = count_series[count_series > 1].index.to_list()\n",
    "names = ['tensorflow', 'worker', 'ps', 'PyTorchWorker', 'evaluator']\n",
    "fail = 'Failed'\n",
    "gpu_types = ['V100', 'T4', 'P100', 'V100M32']\n",
    "# usr_vals = dfa.user.value_counts()\n",
    "# threshold = np.percentile(usr_vals, all_thr)\n",
    "# freq_user = usr_vals[usr_vals >= threshold].index.to_list()"
   ]
  },
  {
   "cell_type": "code",
   "execution_count": 45,
   "metadata": {},
   "outputs": [
    {
     "data": {
      "text/plain": [
       "0.00015175881406957143"
      ]
     },
     "execution_count": 45,
     "metadata": {},
     "output_type": "execute_result"
    }
   ],
   "source": [
    "dfas['plan_gpu'].value_counts()[1] / len(dfas)"
   ]
  },
  {
   "cell_type": "code",
   "execution_count": 4,
   "metadata": {},
   "outputs": [],
   "source": [
    "# figure out high level and low level requests for cpu, gpu and memory\n",
    "cpu_req_1st = P.closedopen(0, np.percentile(dfas['plan_cpu'], 25))\n",
    "cpu_req_med = P.closedopen(np.percentile(dfas['plan_cpu'], 25), np.percentile(dfas['plan_cpu'], 75))\n",
    "cpu_req_4th = P.closed(np.percentile(dfas['plan_cpu'], 75), dfas['plan_cpu'].max())\n",
    "\n",
    "gpu_req_1st = P.closedopen(0, np.percentile(dfas['plan_gpu'], 25))\n",
    "gpu_req_2nd = P.closedopen(np.percentile(dfas['plan_gpu'], 25), np.percentile(dfas['plan_gpu'], 50))\n",
    "gpu_req_3rd = P.closedopen(np.percentile(dfas['plan_gpu'], 50), np.percentile(dfas['plan_gpu'], 81.8))\n",
    "gpu_req_4th = P.closed(np.percentile(dfas['plan_gpu'], 81.8), dfas['plan_gpu'].max())\n",
    "\n",
    "mem_req_1st = P.closedopen(0, np.percentile(dfas['plan_mem'], 25))\n",
    "mem_req_med = P.closedopen(np.percentile(dfas['plan_mem'], 25), np.percentile(dfas['plan_mem'], 78))\n",
    "mem_req_4th = P.closed(np.percentile(dfas['plan_mem'], 78), dfas['plan_mem'].max())\n",
    "\n",
    "dfas_runtime = dfas['runtime'][~np.isnan(dfas['runtime'])]\n",
    "runtime_1st = P.closedopen(0, np.percentile(dfas_runtime, 25))\n",
    "runtime_2nd = P.closedopen(np.percentile(dfas_runtime, 25), np.percentile(dfas_runtime, 50))\n",
    "runtime_3rd = P.closedopen(np.percentile(dfas_runtime, 50), np.percentile(dfas_runtime, 75))\n",
    "runtime_4th = P.closed(np.percentile(dfas_runtime, 75), dfas_runtime.max())\n",
    "\n",
    "dfas_wait = dfas['wait_time'][~np.isnan(dfas['wait_time'])]\n",
    "wait_1st = P.closedopen(0, np.percentile(dfas_wait, 25))\n",
    "wait_2nd = P.closedopen(np.percentile(dfas_wait, 25), np.percentile(dfas_wait, 50))\n",
    "wait_3rd = P.closedopen(np.percentile(dfas_wait, 50), np.percentile(dfas_wait, 75))\n",
    "wait_4th = P.closed(np.percentile(dfas_wait, 75), dfas_wait.max())\n",
    "\n",
    "#TODO: need to choose from CDF, not hard threshold\n",
    "ins_high = 2\n",
    "model_dict = {'inception': 'cv', 'resnet': 'cv', 'vgg': 'cv',\n",
    "             'bert': 'text', 'nmt': 'text', 'xlnet': 'text',\n",
    "             'graphlearn': 'gnn', 'rl': 'rl', 'ctr': 'rec'}\n",
    "\n",
    "# plot_data_cdf(dfas['user'].value_counts(), xlog=True)\n",
    "#               ylabel='CDF',xlabel='Num of tasks submitted per User',\n",
    "#               xticks=[1,10,100,10**3,10**4,10**5])"
   ]
  },
  {
   "cell_type": "code",
   "execution_count": 5,
   "metadata": {
    "scrolled": false
   },
   "outputs": [],
   "source": [
    "bot_user_thr = get_usr_thr(dfas['user'], mode='bot')\n",
    "top_user_thr = get_usr_thr(dfas['user'], mode='top')\n",
    "user_counts = dfas['user'].value_counts()\n",
    "new_users = user_counts[user_counts <= bot_user_thr].index.to_list()\n",
    "top_users = user_counts[user_counts >= top_user_thr].index.to_list()\n",
    "\n",
    "bot_grp_thr = get_usr_thr(dfas['group'], mode='bot')\n",
    "top_grp_thr = get_usr_thr(dfas['group'], mode='top')\n",
    "group_counts = dfas['group'].value_counts()\n",
    "nonfreq_groups = group_counts[group_counts <= bot_grp_thr].index.to_list()\n",
    "freq_groups = group_counts[group_counts >= top_grp_thr].index.to_list()"
   ]
  },
  {
   "cell_type": "code",
   "execution_count": 42,
   "metadata": {},
   "outputs": [
    {
     "data": {
      "image/png": "[encoded data removed]",
      "text/plain": [
       "<Figure size 480x360 with 1 Axes>"
      ]
     },
     "metadata": {
      "needs_background": "light"
     },
     "output_type": "display_data"
    }
   ],
   "source": [
    "plot_data_cdf(dfas['plan_gpu'], xlog=True, xlabel='CPU core usage (%)')"
   ]
  },
  {
   "cell_type": "code",
   "execution_count": 39,
   "metadata": {},
   "outputs": [
    {
     "data": {
      "text/plain": [
       "[0,0.458984375)"
      ]
     },
     "execution_count": 39,
     "metadata": {},
     "output_type": "execute_result"
    }
   ],
   "source": [
    "mavg_use_1st"
   ]
  },
  {
   "cell_type": "code",
   "execution_count": 7,
   "metadata": {},
   "outputs": [],
   "source": [
    "%%script false --no-raise-error\n",
    "csum_use_high = np.percentile(dfas['cpu_usage'][~np.isnan(dfas['cpu_usage'])], 85)\n",
    "csum_use_low = np.percentile(dfas['cpu_usage'][~np.isnan(dfas['cpu_usage'])], 15)\n",
    "gsum_use_high = np.percentile(dfas['gpu_wrk_util'][~np.isnan(dfas['gpu_wrk_util'])], 85)\n",
    "gsum_use_low = np.percentile(dfas['gpu_wrk_util'][~np.isnan(dfas['gpu_wrk_util'])], 15) # just 0\n",
    "msum_use_high = np.percentile(dfas['avg_mem'][~np.isnan(dfas['avg_mem'])], 85)\n",
    "msum_use_low = np.percentile(dfas['avg_mem'][~np.isnan(dfas['avg_mem'])], 15)\n",
    "gmsum_use_high = np.percentile(dfas['avg_gpu_wrk_mem'][~np.isnan(dfas['avg_gpu_wrk_mem'])], 85)\n",
    "gmsum_use_low = np.percentile(dfas['avg_gpu_wrk_mem'][~np.isnan(dfas['avg_gpu_wrk_mem'])], 15) # just 0"
   ]
  },
  {
   "cell_type": "code",
   "execution_count": 8,
   "metadata": {},
   "outputs": [],
   "source": [
    "# figure out usage thresholds from dfam\n",
    "cavg_use = dfam['cpu_usage'][~np.isnan(dfam['cpu_usage'])]\n",
    "cavg_use_1st = P.closedopen(0, np.percentile(cavg_use, 25))\n",
    "cavg_use_2nd = P.closedopen(np.percentile(cavg_use, 25), np.percentile(cavg_use, 50))\n",
    "cavg_use_3rd = P.closedopen(np.percentile(cavg_use, 50), np.percentile(cavg_use, 75))\n",
    "cavg_use_4th = P.closed(np.percentile(cavg_use, 75), cavg_use.max())\n",
    "\n",
    "gavg_use = dfam['gpu_wrk_util'][~np.isnan(dfam['gpu_wrk_util'])]\n",
    "gavg_use_low = P.closedopen(0, np.percentile(gavg_use, 50))\n",
    "gavg_use_3rd = P.closedopen(np.percentile(gavg_use, 50), np.percentile(gavg_use, 75))\n",
    "gavg_use_4th = P.closed(np.percentile(gavg_use, 75), gavg_use.max())\n",
    "\n",
    "mavg_use = dfam['avg_mem'][~np.isnan(dfam['avg_mem'])]\n",
    "mavg_use_1st = P.closedopen(0, np.percentile(mavg_use, 25))\n",
    "mavg_use_2nd = P.closedopen(np.percentile(mavg_use, 25), np.percentile(mavg_use, 50))\n",
    "mavg_use_3rd = P.closedopen(np.percentile(mavg_use, 50), np.percentile(mavg_use, 75))\n",
    "mavg_use_4th = P.closed(np.percentile(mavg_use, 75), mavg_use.max())\n",
    "\n",
    "gmavg_use = dfam['avg_gpu_wrk_mem'][~np.isnan(dfam['avg_gpu_wrk_mem'])]\n",
    "gmavg_use_1st = P.closedopen(0, np.percentile(gmavg_use, 27))\n",
    "gmavg_use_2nd = P.closedopen(np.percentile(gmavg_use, 27), np.percentile(gmavg_use, 50))\n",
    "gmavg_use_3rd = P.closedopen(np.percentile(gmavg_use, 50), np.percentile(gmavg_use, 75))\n",
    "gmavg_use_4th = P.closed(np.percentile(gmavg_use, 75), gmavg_use.max())"
   ]
  },
  {
   "cell_type": "code",
   "execution_count": 29,
   "metadata": {},
   "outputs": [
    {
     "data": {
      "text/plain": [
       "[29.296875,31.25)"
      ]
     },
     "execution_count": 29,
     "metadata": {},
     "output_type": "execute_result"
    }
   ],
   "source": [
    "mem_req_med"
   ]
  },
  {
   "cell_type": "code",
   "execution_count": 9,
   "metadata": {},
   "outputs": [],
   "source": [
    "def inner_loop(dfas, dfam):\n",
    "    results = []\n",
    "    for dfas_iter, dfam_iter in zip(dfas.iterrows(), dfam.iterrows()):\n",
    "        trans = [] # transaction list\n",
    "        dfas_row = dfas_iter[1]\n",
    "        dfam_row = dfam_iter[1]\n",
    "        if dfas_row['job_name'] in dup_task:\n",
    "            trans.append('multi-task')\n",
    "        if dfas_row['task_name'] in names:\n",
    "            trans.append(dfas_row['task_name'])\n",
    "        if dfas_row['status'] == fail:\n",
    "            trans.append(fail)\n",
    "        if dfas_row['gpu_type'] in gpu_types:\n",
    "            if dfas_row['gpu_type'] == 'T4':\n",
    "                trans.append('T4')\n",
    "            else:\n",
    "                trans.append('None-T4')\n",
    "        else:\n",
    "            trans.append('Unspecified-GPU')\n",
    "        # cpu req\n",
    "        cpu_req = dfas_row['plan_cpu']\n",
    "        if cpu_req in cpu_req_1st:\n",
    "            trans.append('cpu_req_1st')\n",
    "        elif cpu_req in cpu_req_med:\n",
    "            trans.append('cpu_req_med')\n",
    "        elif cpu_req in cpu_req_4th:\n",
    "            trans.append('cpu_req_4th')\n",
    "        # gpu req\n",
    "        gpu_req = dfas_row['plan_gpu']\n",
    "        if gpu_req in gpu_req_1st:\n",
    "            trans.append('gpu_req_1st')\n",
    "        elif gpu_req in gpu_req_2nd:\n",
    "            trans.append('gpu_req_2nd')\n",
    "        elif gpu_req in gpu_req_3rd:\n",
    "            trans.append('gpu_req_3rd')\n",
    "        elif gpu_req in gpu_req_4th:\n",
    "            trans.append('gpu_req_4th')\n",
    "        # mem req\n",
    "        mem_req = dfas_row['plan_mem']\n",
    "        if mem_req in mem_req_1st:\n",
    "            trans.append('mem_req_1st')\n",
    "        elif mem_req in mem_req_med:\n",
    "            trans.append('mem_req_med')    \n",
    "        elif mem_req in mem_req_4th:\n",
    "            trans.append('mem_req_4th')\n",
    "        # runtime\n",
    "        runtime = dfas_row['runtime']\n",
    "        if not np.isnan(runtime):\n",
    "            if runtime in runtime_1st:\n",
    "                trans.append('runtime_1st')\n",
    "            elif runtime in runtime_2nd:\n",
    "                trans.append('runtime_2nd')   \n",
    "            elif runtime in runtime_3rd:\n",
    "                trans.append('runtime_3rd')\n",
    "            elif runtime in runtime_4th:\n",
    "                trans.append('runtime_4th')\n",
    "        # wait time\n",
    "        wait = dfas_row['wait_time']\n",
    "        if not np.isnan(wait):\n",
    "            if wait in wait_1st:\n",
    "                trans.append('wait_1st')\n",
    "            elif wait in wait_2nd:\n",
    "                trans.append('wait_2nd')\n",
    "            elif wait in wait_3rd:\n",
    "                trans.append('wait_3rd')\n",
    "            elif wait in wait_4th:\n",
    "                trans.append('wait_4th')\n",
    "        if wait >= runtime:\n",
    "            trans.append('wait >= run')\n",
    "        # multiple instance spawned\n",
    "        if dfas_row['inst_num'] >= ins_high:\n",
    "            trans.append('multi-inst')\n",
    "        # model type\n",
    "        model = dfas_row['workload']\n",
    "        if model in model_dict:\n",
    "            trans.append(model_dict[model])\n",
    "        # freq user and job group\n",
    "        if dfas_row['group'] in freq_groups:\n",
    "            trans.append('freq_group')\n",
    "        elif dfas_row['group'] in nonfreq_groups:\n",
    "            trans.append('nonfreq_group')\n",
    "        if dfas_row['user'] in new_users:\n",
    "            trans.append('new_user')\n",
    "        elif dfas_row['user'] in top_users:\n",
    "            trans.append('top_user')\n",
    "        # cpu/gpu/memory usage average across instances        \n",
    "        cpu_use_avg = dfam_row['cpu_usage']\n",
    "        if not np.isnan(cpu_use_avg):\n",
    "            if cpu_use_avg in cavg_use_1st:\n",
    "                trans.append('cpu_avg_1st')\n",
    "            elif cpu_use_avg in cavg_use_2nd:\n",
    "                trans.append('cpu_avg_2nd')\n",
    "            elif cpu_use_avg in cavg_use_3rd:\n",
    "                trans.append('cpu_avg_3rd')\n",
    "            elif cpu_use_avg in cavg_use_4th:\n",
    "                trans.append('cpu_avg_4th')        \n",
    "                \n",
    "        gpu_use_avg = dfam_row['gpu_wrk_util']\n",
    "        if not np.isnan(gpu_use_avg):\n",
    "            if gpu_use_avg in gavg_use_low:\n",
    "                trans.append('gpu_avg_low')\n",
    "            elif gpu_use_avg in gavg_use_3rd:\n",
    "                trans.append('gpu_avg_3rd')\n",
    "            elif gpu_use_avg in gavg_use_4th:\n",
    "                trans.append('gpu_avg_4th')\n",
    "                \n",
    "        mem_use_avg = dfam_row['avg_mem']\n",
    "        if not np.isnan(mem_use_avg):\n",
    "            if mem_use_avg in mavg_use_1st:\n",
    "                trans.append('mem_avg_1st')\n",
    "            elif mem_use_avg in mavg_use_2nd:\n",
    "                trans.append('mem_avg_2nd')\n",
    "            elif mem_use_avg in mavg_use_3rd:\n",
    "                trans.append('mem_avg_3rd')\n",
    "            elif mem_use_avg in mavg_use_4th:\n",
    "                trans.append('mem_avg_4th')\n",
    "                \n",
    "        gmem_use_avg = dfam_row['avg_gpu_wrk_mem']\n",
    "        if not np.isnan(gmem_use_avg):\n",
    "            if gmem_use_avg in gmavg_use_1st:\n",
    "                trans.append('gmem_avg_1st')\n",
    "            elif gmem_use_avg in gmavg_use_2nd:\n",
    "                trans.append('gmem_avg_2nd')      \n",
    "            elif gmem_use_avg in gmavg_use_3rd:\n",
    "                trans.append('gmem_avg_3rd')      \n",
    "            elif gmem_use_avg in gmavg_use_4th:\n",
    "                trans.append('gmem_avg_4th')      \n",
    "        results.append(trans)\n",
    "    return results"
   ]
  },
  {
   "cell_type": "code",
   "execution_count": 10,
   "metadata": {},
   "outputs": [],
   "source": [
    "dfas_chunk = pd.read_csv(DATA_DIR + 'dfas.csv', chunksize=10000) # tasks with sensor data but sum\n",
    "dfam_chunk = pd.read_csv(DATA_DIR + 'dfas_mean.csv', chunksize=10000) # tasks with sensor data but mean"
   ]
  },
  {
   "cell_type": "code",
   "execution_count": 11,
   "metadata": {},
   "outputs": [],
   "source": [
    "usable_cores = os.sched_getaffinity(0)\n",
    "dataset = Parallel(n_jobs=len(usable_cores))(delayed(inner_loop)(dfas, dfam) for dfas, dfam in zip(dfas_chunk, dfam_chunk))"
   ]
  },
  {
   "cell_type": "code",
   "execution_count": 12,
   "metadata": {},
   "outputs": [],
   "source": [
    "transactions = []\n",
    "for data in dataset:\n",
    "    transactions += data"
   ]
  },
  {
   "cell_type": "code",
   "execution_count": 20,
   "metadata": {},
   "outputs": [],
   "source": [
    "te = TransactionEncoder()\n",
    "te_ary = te.fit(transactions).transform(transactions)\n",
    "df = pd.DataFrame(te_ary, columns=te.columns_)"
   ]
  },
  {
   "cell_type": "code",
   "execution_count": 22,
   "metadata": {},
   "outputs": [],
   "source": [
    "df.to_csv('transaction.csv')"
   ]
  },
  {
   "cell_type": "code",
   "execution_count": 21,
   "metadata": {
    "scrolled": true
   },
   "outputs": [
    {
     "data": {
      "text/html": [
       "<div>\n",
       "<style scoped>\n",
       "    .dataframe tbody tr th:only-of-type {\n",
       "        vertical-align: middle;\n",
       "    }\n",
       "\n",
       "    .dataframe tbody tr th {\n",
       "        vertical-align: top;\n",
       "    }\n",
       "\n",
       "    .dataframe thead th {\n",
       "        text-align: right;\n",
       "    }\n",
       "</style>\n",
       "<table border=\"1\" class=\"dataframe\">\n",
       "  <thead>\n",
       "    <tr style=\"text-align: right;\">\n",
       "      <th></th>\n",
       "      <th>support</th>\n",
       "      <th>itemsets</th>\n",
       "    </tr>\n",
       "  </thead>\n",
       "  <tbody>\n",
       "    <tr>\n",
       "      <th>0</th>\n",
       "      <td>0.692441</td>\n",
       "      <td>(mem_req_med)</td>\n",
       "    </tr>\n",
       "    <tr>\n",
       "      <th>1</th>\n",
       "      <td>0.679712</td>\n",
       "      <td>(Unspecified-GPU)</td>\n",
       "    </tr>\n",
       "    <tr>\n",
       "      <th>2</th>\n",
       "      <td>0.602671</td>\n",
       "      <td>(tensorflow)</td>\n",
       "    </tr>\n",
       "    <tr>\n",
       "      <th>3</th>\n",
       "      <td>0.544666</td>\n",
       "      <td>(cpu_req_med)</td>\n",
       "    </tr>\n",
       "    <tr>\n",
       "      <th>4</th>\n",
       "      <td>0.308629</td>\n",
       "      <td>(gpu_req_2nd)</td>\n",
       "    </tr>\n",
       "    <tr>\n",
       "      <th>...</th>\n",
       "      <td>...</td>\n",
       "      <td>...</td>\n",
       "    </tr>\n",
       "    <tr>\n",
       "      <th>874</th>\n",
       "      <td>0.115491</td>\n",
       "      <td>(tensorflow, gpu_avg_low, gpu_req_1st, Unspecified-GPU)</td>\n",
       "    </tr>\n",
       "    <tr>\n",
       "      <th>875</th>\n",
       "      <td>0.115490</td>\n",
       "      <td>(tensorflow, mem_req_med, gpu_req_1st, gpu_avg_low, Unspecified-GPU)</td>\n",
       "    </tr>\n",
       "    <tr>\n",
       "      <th>876</th>\n",
       "      <td>0.102985</td>\n",
       "      <td>(top_user, mem_req_med, gpu_req_1st)</td>\n",
       "    </tr>\n",
       "    <tr>\n",
       "      <th>877</th>\n",
       "      <td>0.100553</td>\n",
       "      <td>(top_user, gpu_req_1st, Unspecified-GPU)</td>\n",
       "    </tr>\n",
       "    <tr>\n",
       "      <th>878</th>\n",
       "      <td>0.100158</td>\n",
       "      <td>(top_user, mem_req_med, gpu_req_1st, Unspecified-GPU)</td>\n",
       "    </tr>\n",
       "  </tbody>\n",
       "</table>\n",
       "<p>879 rows × 2 columns</p>\n",
       "</div>"
      ],
      "text/plain": [
       "      support  \\\n",
       "0    0.692441   \n",
       "1    0.679712   \n",
       "2    0.602671   \n",
       "3    0.544666   \n",
       "4    0.308629   \n",
       "..        ...   \n",
       "874  0.115491   \n",
       "875  0.115490   \n",
       "876  0.102985   \n",
       "877  0.100553   \n",
       "878  0.100158   \n",
       "\n",
       "                                                                 itemsets  \n",
       "0                                                           (mem_req_med)  \n",
       "1                                                       (Unspecified-GPU)  \n",
       "2                                                            (tensorflow)  \n",
       "3                                                           (cpu_req_med)  \n",
       "4                                                           (gpu_req_2nd)  \n",
       "..                                                                    ...  \n",
       "874               (tensorflow, gpu_avg_low, gpu_req_1st, Unspecified-GPU)  \n",
       "875  (tensorflow, mem_req_med, gpu_req_1st, gpu_avg_low, Unspecified-GPU)  \n",
       "876                                  (top_user, mem_req_med, gpu_req_1st)  \n",
       "877                              (top_user, gpu_req_1st, Unspecified-GPU)  \n",
       "878                 (top_user, mem_req_med, gpu_req_1st, Unspecified-GPU)  \n",
       "\n",
       "[879 rows x 2 columns]"
      ]
     },
     "execution_count": 21,
     "metadata": {},
     "output_type": "execute_result"
    }
   ],
   "source": [
    "frequent_itemsets = fpgrowth(df, min_support=0.1, use_colnames=True)\n",
    "frequent_itemsets"
   ]
  },
  {
   "cell_type": "code",
   "execution_count": 15,
   "metadata": {},
   "outputs": [],
   "source": [
    "from mlxtend.frequent_patterns import association_rules\n",
    "\n",
    "res = association_rules(frequent_itemsets, metric='confidence', min_threshold=0.8)"
   ]
  },
  {
   "cell_type": "code",
   "execution_count": 16,
   "metadata": {},
   "outputs": [
    {
     "data": {
      "text/html": [
       "<div>\n",
       "<style scoped>\n",
       "    .dataframe tbody tr th:only-of-type {\n",
       "        vertical-align: middle;\n",
       "    }\n",
       "\n",
       "    .dataframe tbody tr th {\n",
       "        vertical-align: top;\n",
       "    }\n",
       "\n",
       "    .dataframe thead th {\n",
       "        text-align: right;\n",
       "    }\n",
       "</style>\n",
       "<table border=\"1\" class=\"dataframe\">\n",
       "  <thead>\n",
       "    <tr style=\"text-align: right;\">\n",
       "      <th></th>\n",
       "      <th>antecedents</th>\n",
       "      <th>consequents</th>\n",
       "      <th>antecedent support</th>\n",
       "      <th>consequent support</th>\n",
       "      <th>support</th>\n",
       "      <th>confidence</th>\n",
       "      <th>lift</th>\n",
       "      <th>leverage</th>\n",
       "      <th>conviction</th>\n",
       "    </tr>\n",
       "  </thead>\n",
       "  <tbody>\n",
       "    <tr>\n",
       "      <th>0</th>\n",
       "      <td>(tensorflow)</td>\n",
       "      <td>(mem_req_med)</td>\n",
       "      <td>0.602671</td>\n",
       "      <td>0.692441</td>\n",
       "      <td>0.602657</td>\n",
       "      <td>0.999977</td>\n",
       "      <td>1.444132</td>\n",
       "      <td>0.185342</td>\n",
       "      <td>13129.934970</td>\n",
       "    </tr>\n",
       "    <tr>\n",
       "      <th>1</th>\n",
       "      <td>(mem_req_med)</td>\n",
       "      <td>(tensorflow)</td>\n",
       "      <td>0.692441</td>\n",
       "      <td>0.602671</td>\n",
       "      <td>0.602657</td>\n",
       "      <td>0.870336</td>\n",
       "      <td>1.444132</td>\n",
       "      <td>0.185342</td>\n",
       "      <td>3.064298</td>\n",
       "    </tr>\n",
       "    <tr>\n",
       "      <th>2</th>\n",
       "      <td>(tensorflow)</td>\n",
       "      <td>(Unspecified-GPU)</td>\n",
       "      <td>0.602671</td>\n",
       "      <td>0.679712</td>\n",
       "      <td>0.492583</td>\n",
       "      <td>0.817334</td>\n",
       "      <td>1.202470</td>\n",
       "      <td>0.082940</td>\n",
       "      <td>1.753405</td>\n",
       "    </tr>\n",
       "    <tr>\n",
       "      <th>3</th>\n",
       "      <td>(tensorflow, mem_req_med)</td>\n",
       "      <td>(Unspecified-GPU)</td>\n",
       "      <td>0.602657</td>\n",
       "      <td>0.679712</td>\n",
       "      <td>0.492570</td>\n",
       "      <td>0.817332</td>\n",
       "      <td>1.202467</td>\n",
       "      <td>0.082937</td>\n",
       "      <td>1.753382</td>\n",
       "    </tr>\n",
       "    <tr>\n",
       "      <th>4</th>\n",
       "      <td>(tensorflow, Unspecified-GPU)</td>\n",
       "      <td>(mem_req_med)</td>\n",
       "      <td>0.492583</td>\n",
       "      <td>0.692441</td>\n",
       "      <td>0.492570</td>\n",
       "      <td>0.999974</td>\n",
       "      <td>1.444128</td>\n",
       "      <td>0.151485</td>\n",
       "      <td>11707.136046</td>\n",
       "    </tr>\n",
       "    <tr>\n",
       "      <th>...</th>\n",
       "      <td>...</td>\n",
       "      <td>...</td>\n",
       "      <td>...</td>\n",
       "      <td>...</td>\n",
       "      <td>...</td>\n",
       "      <td>...</td>\n",
       "      <td>...</td>\n",
       "      <td>...</td>\n",
       "      <td>...</td>\n",
       "    </tr>\n",
       "    <tr>\n",
       "      <th>2259</th>\n",
       "      <td>(top_user, gpu_req_1st)</td>\n",
       "      <td>(Unspecified-GPU)</td>\n",
       "      <td>0.103383</td>\n",
       "      <td>0.679712</td>\n",
       "      <td>0.100553</td>\n",
       "      <td>0.972621</td>\n",
       "      <td>1.430931</td>\n",
       "      <td>0.030282</td>\n",
       "      <td>11.698483</td>\n",
       "    </tr>\n",
       "    <tr>\n",
       "      <th>2260</th>\n",
       "      <td>(top_user, mem_req_med, gpu_req_1st)</td>\n",
       "      <td>(Unspecified-GPU)</td>\n",
       "      <td>0.102985</td>\n",
       "      <td>0.679712</td>\n",
       "      <td>0.100158</td>\n",
       "      <td>0.972550</td>\n",
       "      <td>1.430826</td>\n",
       "      <td>0.030158</td>\n",
       "      <td>11.668037</td>\n",
       "    </tr>\n",
       "    <tr>\n",
       "      <th>2261</th>\n",
       "      <td>(top_user, gpu_req_1st, Unspecified-GPU)</td>\n",
       "      <td>(mem_req_med)</td>\n",
       "      <td>0.100553</td>\n",
       "      <td>0.692441</td>\n",
       "      <td>0.100158</td>\n",
       "      <td>0.996081</td>\n",
       "      <td>1.438505</td>\n",
       "      <td>0.030532</td>\n",
       "      <td>78.471523</td>\n",
       "    </tr>\n",
       "    <tr>\n",
       "      <th>2262</th>\n",
       "      <td>(mem_req_med, gpu_req_1st, Unspecified-GPU)</td>\n",
       "      <td>(top_user)</td>\n",
       "      <td>0.124300</td>\n",
       "      <td>0.293476</td>\n",
       "      <td>0.100158</td>\n",
       "      <td>0.805781</td>\n",
       "      <td>2.745648</td>\n",
       "      <td>0.063679</td>\n",
       "      <td>3.637769</td>\n",
       "    </tr>\n",
       "    <tr>\n",
       "      <th>2263</th>\n",
       "      <td>(top_user, gpu_req_1st)</td>\n",
       "      <td>(mem_req_med, Unspecified-GPU)</td>\n",
       "      <td>0.103383</td>\n",
       "      <td>0.526943</td>\n",
       "      <td>0.100158</td>\n",
       "      <td>0.968809</td>\n",
       "      <td>1.838547</td>\n",
       "      <td>0.045681</td>\n",
       "      <td>15.166643</td>\n",
       "    </tr>\n",
       "  </tbody>\n",
       "</table>\n",
       "<p>2264 rows × 9 columns</p>\n",
       "</div>"
      ],
      "text/plain": [
       "                                      antecedents  \\\n",
       "0                                    (tensorflow)   \n",
       "1                                   (mem_req_med)   \n",
       "2                                    (tensorflow)   \n",
       "3                       (tensorflow, mem_req_med)   \n",
       "4                   (tensorflow, Unspecified-GPU)   \n",
       "...                                           ...   \n",
       "2259                      (top_user, gpu_req_1st)   \n",
       "2260         (top_user, mem_req_med, gpu_req_1st)   \n",
       "2261     (top_user, gpu_req_1st, Unspecified-GPU)   \n",
       "2262  (mem_req_med, gpu_req_1st, Unspecified-GPU)   \n",
       "2263                      (top_user, gpu_req_1st)   \n",
       "\n",
       "                         consequents  antecedent support  consequent support  \\\n",
       "0                      (mem_req_med)            0.602671            0.692441   \n",
       "1                       (tensorflow)            0.692441            0.602671   \n",
       "2                  (Unspecified-GPU)            0.602671            0.679712   \n",
       "3                  (Unspecified-GPU)            0.602657            0.679712   \n",
       "4                      (mem_req_med)            0.492583            0.692441   \n",
       "...                              ...                 ...                 ...   \n",
       "2259               (Unspecified-GPU)            0.103383            0.679712   \n",
       "2260               (Unspecified-GPU)            0.102985            0.679712   \n",
       "2261                   (mem_req_med)            0.100553            0.692441   \n",
       "2262                      (top_user)            0.124300            0.293476   \n",
       "2263  (mem_req_med, Unspecified-GPU)            0.103383            0.526943   \n",
       "\n",
       "       support  confidence      lift  leverage    conviction  \n",
       "0     0.602657    0.999977  1.444132  0.185342  13129.934970  \n",
       "1     0.602657    0.870336  1.444132  0.185342      3.064298  \n",
       "2     0.492583    0.817334  1.202470  0.082940      1.753405  \n",
       "3     0.492570    0.817332  1.202467  0.082937      1.753382  \n",
       "4     0.492570    0.999974  1.444128  0.151485  11707.136046  \n",
       "...        ...         ...       ...       ...           ...  \n",
       "2259  0.100553    0.972621  1.430931  0.030282     11.698483  \n",
       "2260  0.100158    0.972550  1.430826  0.030158     11.668037  \n",
       "2261  0.100158    0.996081  1.438505  0.030532     78.471523  \n",
       "2262  0.100158    0.805781  2.745648  0.063679      3.637769  \n",
       "2263  0.100158    0.968809  1.838547  0.045681     15.166643  \n",
       "\n",
       "[2264 rows x 9 columns]"
      ]
     },
     "execution_count": 16,
     "metadata": {},
     "output_type": "execute_result"
    }
   ],
   "source": [
    "res"
   ]
  },
  {
   "cell_type": "code",
   "execution_count": 17,
   "metadata": {},
   "outputs": [],
   "source": [
    "df_ant, df_con = filter_df(res, 'gpu_avg_low')\n",
    "df_ant.to_csv('pai_low_util_ant.csv')\n",
    "df_con.to_csv('pai_low_util_con.csv')"
   ]
  },
  {
   "cell_type": "code",
   "execution_count": 18,
   "metadata": {},
   "outputs": [],
   "source": [
    "# res.to_csv('mined_rule_pai.csv')"
   ]
  },
  {
   "cell_type": "code",
   "execution_count": 19,
   "metadata": {},
   "outputs": [],
   "source": [
    "    # cpu/gpu/memory usage sum\n",
    "#     cpu_use_sum = dfas['cpu_usage'][ind]\n",
    "#     if not np.isnan(cpu_use_sum):\n",
    "#         if cpu_use_sum >= csum_use_high:\n",
    "#             trans.append('high_cpu_sum')\n",
    "#         elif cpu_use_sum <= csum_use_low:\n",
    "#             trans.append('low_cpu_sum')\n",
    "#     gpu_use_sum = dfas['gpu_wrk_util'][ind]\n",
    "#     if not np.isnan(gpu_use_sum):\n",
    "#         if gpu_use_sum >= gsum_use_high:\n",
    "#             trans.append('high_gpu_sum')\n",
    "#         elif gpu_use_sum <= gsum_use_low:\n",
    "#             trans.append('low_gpu_sum')\n",
    "#     mem_use_sum = dfas['avg_mem'][ind]\n",
    "#     if not np.isnan(mem_use_sum):\n",
    "#         if mem_use_sum >= msum_use_high:\n",
    "#             trans.append('high_mem_sum')\n",
    "#         elif mem_use_sum <= msum_use_low:\n",
    "#             trans.append('low_mem_sum')    \n",
    "#     gmem_use_sum = dfas['avg_gpu_wrk_mem'][ind]\n",
    "#     if not np.isnan(gmem_use_sum):\n",
    "#         if gmem_use_sum >= gmsum_use_high:\n",
    "#             trans.append('high_gmem_sum')\n",
    "#         elif gmem_use_sum <= gmsum_use_low:\n",
    "#             trans.append('low_gmem_sum')        "
   ]
  },
  {
   "cell_type": "code",
   "execution_count": null,
   "metadata": {},
   "outputs": [],
   "source": []
  }
 ],
 "metadata": {
  "kernelspec": {
   "display_name": "Python 3",
   "language": "python",
   "name": "python3"
  },
  "language_info": {
   "codemirror_mode": {
    "name": "ipython",
    "version": 3
   },
   "file_extension": ".py",
   "mimetype": "text/x-python",
   "name": "python",
   "nbconvert_exporter": "python",
   "pygments_lexer": "ipython3",
   "version": "3.7.9"
  },
  "toc": {
   "base_numbering": 1,
   "nav_menu": {},
   "number_sections": true,
   "sideBar": true,
   "skip_h1_title": false,
   "title_cell": "Table of Contents",
   "title_sidebar": "Contents",
   "toc_cell": false,
   "toc_position": {
    "height": "calc(100% - 180px)",
    "left": "10px",
    "top": "150px",
    "width": "165px"
   },
   "toc_section_display": true,
   "toc_window_display": false
  }
 },
 "nbformat": 4,
 "nbformat_minor": 4
}
